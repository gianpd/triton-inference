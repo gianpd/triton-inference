{
 "cells": [
  {
   "cell_type": "code",
   "execution_count": 1,
   "metadata": {},
   "outputs": [],
   "source": [
    "import zlib\n",
    "from uuid import uuid4\n",
    "import json"
   ]
  },
  {
   "cell_type": "code",
   "execution_count": 2,
   "metadata": {},
   "outputs": [],
   "source": [
    "JS = {\n",
    "        \"appliance\": {\n",
    "            \"uid\": \"e1c9af4c\",\n",
    "            \"category\": \"inference_model\",\n",
    "            \"hardware_version\": \"\",\n",
    "            \"software_version\": \"AIJ_grabber-od-predc-dc\"\n",
    "            },\n",
    "        \"camera\": {\n",
    "            \"uid\": 'testCamerId',\n",
    "            \"pointing\": \"LEFT\"\n",
    "            },\n",
    "        \"object_code\": \"OBJ_NJ\",\n",
    "        \"application_code\": \"AIJ\",\n",
    "        \"events\": [{\n",
    "                    \"timestamp\": '10-10-2020', \n",
    "                    \"uid\": \"d8491a2818\", \n",
    "                    \"model\": 'test', \n",
    "                    \"model_version\": '1',\n",
    "                    \"event_code\": 'test1',\n",
    "                    \"linked_data\": [],\n",
    "                    \"position\": 'Assago'\n",
    "                }],\n",
    "    }"
   ]
  },
  {
   "cell_type": "code",
   "execution_count": 3,
   "metadata": {},
   "outputs": [],
   "source": [
    "js_dumps = json.dumps(JS,sort_keys=True)"
   ]
  },
  {
   "cell_type": "code",
   "execution_count": 4,
   "metadata": {},
   "outputs": [
    {
     "data": {
      "text/plain": [
       "'{\"appliance\": {\"category\": \"inference_model\", \"hardware_version\": \"\", \"software_version\": \"AIJ_grabber-od-predc-dc\", \"uid\": \"e1c9af4c\"}, \"application_code\": \"AIJ\", \"camera\": {\"pointing\": \"LEFT\", \"uid\": \"testCamerId\"}, \"events\": [{\"event_code\": \"test1\", \"model\": \"test\", \"model_version\": \"1\", \"position\": \"Assago\", \"timestamp\": \"10-10-2020\", \"uid\": \"d8491a2818\"}], \"object_code\": \"OBJ_NJ\"}'"
      ]
     },
     "execution_count": 4,
     "metadata": {},
     "output_type": "execute_result"
    }
   ],
   "source": [
    "js_dumps"
   ]
  },
  {
   "cell_type": "code",
   "execution_count": 5,
   "metadata": {},
   "outputs": [],
   "source": [
    "js_bytes = js_dumps.encode('utf-8')"
   ]
  },
  {
   "cell_type": "code",
   "execution_count": 6,
   "metadata": {},
   "outputs": [],
   "source": [
    "crc_js = hex(zlib.crc32(js_bytes))"
   ]
  },
  {
   "cell_type": "code",
   "execution_count": 7,
   "metadata": {},
   "outputs": [
    {
     "data": {
      "text/plain": [
       "'0x23b90eeb'"
      ]
     },
     "execution_count": 7,
     "metadata": {},
     "output_type": "execute_result"
    }
   ],
   "source": [
    "crc_js\n",
    "#0x7639c9e9"
   ]
  },
  {
   "cell_type": "code",
   "execution_count": 8,
   "metadata": {},
   "outputs": [],
   "source": [
    "def get_crc_json(json_dict) :\n",
    "    js_dumps = json.dumps(json_dict,sort_keys=True)\n",
    "    js_bytes = js_dumps.encode('utf-8')\n",
    "    crc_js = hex(zlib.crc32(js_bytes))\n",
    "    return crc_js\n",
    "    "
   ]
  },
  {
   "cell_type": "code",
   "execution_count": 9,
   "metadata": {},
   "outputs": [
    {
     "name": "stdout",
     "output_type": "stream",
     "text": [
      "{\"appliance\": {\"category\": \"inference_model\", \"hardware_version\": \"\", \"software_version\": \"AIJ_grabber-od-predc-dc\", \"uid\": \"e1c9af4c\"}, \"application_code\": \"AIJ\", \"camera\": {\"pointing\": \"LEFT\", \"uid\": \"testCamerId\"}, \"crc\": \"0x23b90eeb\", \"events\": [{\"event_code\": \"test1\", \"model\": \"test\", \"model_version\": \"1\", \"position\": \"Assago\", \"timestamp\": \"10-10-2020\", \"uid\": \"d8491a2818\"}], \"object_code\": \"OBJ_NJ\"}\n"
     ]
    }
   ],
   "source": [
    "crc = get_crc_json(JS)\n",
    "JS['crc'] = crc\n",
    "JS = json.dumps(JS, sort_keys=True)\n",
    "\n",
    "print(JS)"
   ]
  }
 ],
 "metadata": {
  "kernelspec": {
   "display_name": "Python 3 (ipykernel)",
   "language": "python",
   "name": "python3"
  },
  "language_info": {
   "codemirror_mode": {
    "name": "ipython",
    "version": 3
   },
   "file_extension": ".py",
   "mimetype": "text/x-python",
   "name": "python",
   "nbconvert_exporter": "python",
   "pygments_lexer": "ipython3",
   "version": "3.8.10"
  },
  "orig_nbformat": 4
 },
 "nbformat": 4,
 "nbformat_minor": 2
}
