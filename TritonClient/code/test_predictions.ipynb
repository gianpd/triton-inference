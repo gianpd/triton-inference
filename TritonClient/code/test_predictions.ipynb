{
 "cells": [
  {
   "cell_type": "code",
   "execution_count": 10,
   "id": "e5bec7c6",
   "metadata": {},
   "outputs": [],
   "source": [
    "import numpy as np\n",
    "import sys\n",
    "\n",
    "\n",
    "query_response_casted_list= [np.array([[0,0,0]]),np.array([[1,0,0]]),np.array([[0,1,0]]),np.array([[0,0,1]]),np.array([[1,1,0]]),np.array([[1,0,1]]),np.array([[0,1,1]]), np.array([[1,1,1]])]\n",
    "\n",
    "PREDS_MAP_DICT = {\n",
    "        '[[0 0 0]]': ['Not Classified'], \n",
    "        '[[1 0 0]]': ['Perfect'],  \n",
    "        '[[0 1 0]]': ['EVN_NIA'],  \n",
    "        '[[0 0 1]]': ['EVN_FPD'],  \n",
    "        '[[0 1 1]]': ['EVN_NIA', 'EVN_FPD'],\n",
    "        '[[1 1 1]]': ['Perfect'],\n",
    "        '[[1 1 0]]': ['Perfect'],\n",
    "        '[[1 0 1]]': ['Perfect'],\n",
    "        }"
   ]
  },
  {
   "cell_type": "code",
   "execution_count": 8,
   "id": "cca7e3e8",
   "metadata": {},
   "outputs": [
    {
     "name": "stdout",
     "output_type": "stream",
     "text": [
      "[[0 0 0]]\n",
      "144\n",
      "No defects detected. Skipped.\n",
      "[[1 0 0]]\n",
      "144\n",
      "No defects detected. Skipped.\n",
      "[[0 1 0]]\n",
      "144\n",
      "Anomaly detected: ['EVN_NIA']\n",
      "[[0 0 1]]\n",
      "144\n",
      "Anomaly detected: ['EVN_FPD']\n",
      "[[1 1 0]]\n",
      "144\n",
      "No defects detected. Skipped.\n",
      "[[1 0 1]]\n",
      "144\n",
      "No defects detected. Skipped.\n",
      "[[0 1 1]]\n",
      "144\n",
      "Anomaly detected: ['EVN_NIA', 'EVN_FPD']\n",
      "[[1 1 1]]\n",
      "144\n",
      "No defects detected. Skipped.\n"
     ]
    }
   ],
   "source": [
    "\n",
    "for query_response_casted in query_response_casted_list:\n",
    "    \n",
    "    print(query_response_casted)\n",
    "    print(sys.getsizeof(query_response_casted))\n",
    "\n",
    "    #print(PREDS_MAP_DICT.get(str(query_response_casted)))\n",
    "    #print(query_response_casted[0][0])\n",
    "    #print(not query_response_casted[0].any())\n",
    "    \n",
    "    if query_response_casted[0][0] or not query_response_casted[0].any():\n",
    "        print('No defects detected. Skipped.')\n",
    "    else:\n",
    "        label_names = PREDS_MAP_DICT.get(str(query_response_casted)) # list with the EVT_CODE\n",
    "        print(f'Anomaly detected: {label_names}')"
   ]
  },
  {
   "cell_type": "code",
   "execution_count": null,
   "id": "8d0c6196",
   "metadata": {},
   "outputs": [],
   "source": []
  }
 ],
 "metadata": {
  "kernelspec": {
   "display_name": "conda_amazonei_pytorch_latest_p37",
   "language": "python",
   "name": "conda_amazonei_pytorch_latest_p37"
  },
  "language_info": {
   "codemirror_mode": {
    "name": "ipython",
    "version": 3
   },
   "file_extension": ".py",
   "mimetype": "text/x-python",
   "name": "python",
   "nbconvert_exporter": "python",
   "pygments_lexer": "ipython3",
   "version": "3.7.12"
  }
 },
 "nbformat": 4,
 "nbformat_minor": 5
}
